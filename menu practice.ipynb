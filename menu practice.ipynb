{
 "cells": [
  {
   "cell_type": "code",
   "execution_count": 8,
   "metadata": {},
   "outputs": [
    {
     "name": "stdout",
     "output_type": "stream",
     "text": [
      "{'Favorites': {'Ramen': 2.5, 'Cheese sticks': 5, 'Cottage Cheese': 3.25, 'Fruit': 2.99}, 'Cold Weather Food': {'Chili': 6.75, 'Chicken Noodle Soup': 4.5, 'Grilled Cheese': 6}, 'Desserts': {'Cheesecake': 10, 'Ice Cream': 8, 'Cookies': 5.25}}\n"
     ]
    }
   ],
   "source": [
    "# Meredith Practice Menu dictionary\n",
    "Menu = {\n",
    "    \"Favorites\": {\n",
    "        \"Ramen\": 2.50,\n",
    "        \"Cheese sticks\": 5,\n",
    "        \"Cottage Cheese\": 3.25,\n",
    "        \"Fruit\": 2.99\n",
    "    },\n",
    "    \"Cold Weather Food\": {\n",
    "        \"Chili\": 6.75,\n",
    "        \"Chicken Noodle Soup\": 4.50,\n",
    "        \"Grilled Cheese\": 6\n",
    "    },\n",
    "    \"Desserts\": {\n",
    "        \"Cheesecake\": 10,\n",
    "        \"Ice Cream\": 8,\n",
    "        \"Cookies\": 5.25\n",
    "    }\n",
    "}\n",
    "print(Menu)"
   ]
  },
  {
   "cell_type": "code",
   "execution_count": 14,
   "metadata": {},
   "outputs": [],
   "source": [
    "# create an empty order list. Order list will store a list of dictionaries for \n",
    "# menu item name, item price, and quantity ordered.\n",
    "\n",
    "empty_order_list = [\n",
    "    {\"item\": \"string\",\n",
    "     \"price\": float,\n",
    "     \"quantity\": int}\n",
    "]"
   ]
  },
  {
   "cell_type": "code",
   "execution_count": 15,
   "metadata": {},
   "outputs": [
    {
     "name": "stdout",
     "output_type": "stream",
     "text": [
      "Welcome to Meredith's practice menu.\n"
     ]
    }
   ],
   "source": [
    "#greeting\n",
    "print(\"Welcome to Meredith's practice menu.\")"
   ]
  },
  {
   "cell_type": "code",
   "execution_count": null,
   "metadata": {},
   "outputs": [],
   "source": [
    "place_order"
   ]
  },
  {
   "cell_type": "code",
   "execution_count": 10,
   "metadata": {},
   "outputs": [
    {
     "name": "stdout",
     "output_type": "stream",
     "text": [
      "['Ramen', 'Cheese sticks', 'Cottage Cheese', 'Fruit', 'Chili', 'Chicken Noodle Soup', 'Grilled Cheese', 'Cheesecake', 'Ice Cream', 'Cookies']\n"
     ]
    }
   ],
   "source": [
    "#Set up purchase lists\n",
    "purchases = [0,0,0,0,0,0,0,0,0,0]\n",
    "\n",
    "#set up order list\n",
    "order_list = [\"Ramen\",\n",
    "              \"Cheese sticks\",\n",
    "              \"Cottage Cheese\",\n",
    "              \"Fruit\",\n",
    "              \"Chili\",\n",
    "              \"Chicken Noodle Soup\",\n",
    "              \"Grilled Cheese\",\n",
    "              \"Cheesecake\",\n",
    "              \"Ice Cream\",\n",
    "              \"Cookies\"]\n",
    "#print ordder list\n",
    "print(order_list)\n"
   ]
  },
  {
   "cell_type": "code",
   "execution_count": 13,
   "metadata": {},
   "outputs": [
    {
     "name": "stdout",
     "output_type": "stream",
     "text": [
      "****************************************************************************************************\n",
      "1) Ramen\n",
      "2) Cheese sticks\n",
      "3) Cottage Cheese\n",
      "4) Fruit\n",
      "5) Chili\n",
      "6) Chicken Noodle Soup\n",
      "7) Grilled Cheese\n",
      "8) Cheesecake\n",
      "9) Ice Cream\n",
      "10) Cookies\n",
      "****************************************************************************************************\n",
      "Great! We'll have that Grilled Cheese right out for you.\n",
      "****************************************************************************************************\n",
      "1) Ramen\n",
      "2) Cheese sticks\n",
      "3) Cottage Cheese\n",
      "4) Fruit\n",
      "5) Chili\n",
      "6) Chicken Noodle Soup\n",
      "7) Grilled Cheese\n",
      "8) Cheesecake\n",
      "9) Ice Cream\n",
      "10) Cookies\n",
      "****************************************************************************************************\n",
      "Great! We'll have that Ice Cream right out for you.\n",
      "Thank you for your oder.\n"
     ]
    }
   ],
   "source": [
    "#boolean to place the order\n",
    "#while loop to shop\n",
    "#Make sure to set conditions to stop the loop before running!!\n",
    "\n",
    "place_order = True\n",
    "while place_order:\n",
    "    #show menu selection prompt\n",
    "    print(\"*\" * 100)\n",
    "    order_number = 1\n",
    "    for fav in order_list:\n",
    "        print(f\"{order_number}) {fav}\")\n",
    "        order_number += 1\n",
    "    \n",
    "    menu_choice = input(\"What would you like to order?\")\n",
    "    \n",
    "    #get index of the choice from the selected number\n",
    "    choice_index = int(menu_choice) -1\n",
    "    \n",
    "    #add item to the purchase list by finding matching index and adding one to its value\n",
    "    purchases[choice_index] += 1\n",
    "    \n",
    "    print(\"*\" * 100)\n",
    "    \n",
    "    #inform customer of purchase\n",
    "    print(\"Great! We'll have that \" +order_list[choice_index]\n",
    "          + \" right out for you.\")\n",
    "    \n",
    "    #provide exit option\n",
    "    while True:\n",
    "        #ask customer if want anything else\n",
    "        keep_ordering = input(\"Would you like anything else? (y)es or (n)o\")\n",
    "        \n",
    "        #check customer's input\n",
    "        match keep_ordering.lower():\n",
    "            #customer choise yes\n",
    "            case 'y':\n",
    "                #keep ordering\n",
    "                place_order = True\n",
    "                # exit the keep ordering question loop\n",
    "                break\n",
    "            #customer chose no\n",
    "            case 'n':\n",
    "                #complete the order\n",
    "                place_order = False\n",
    "                #since customer decided to stop, thank them\n",
    "                print(\"Thank you for your oder.\")\n",
    "                # exit question loop\n",
    "                break\n",
    "            #customer enters invalid input\n",
    "            case _:\n",
    "                #tell the customer to try again\n",
    "                print(\"I didn't understand your response. Please try again.\")\n"
   ]
  }
 ],
 "metadata": {
  "kernelspec": {
   "display_name": "base",
   "language": "python",
   "name": "python3"
  },
  "language_info": {
   "codemirror_mode": {
    "name": "ipython",
    "version": 3
   },
   "file_extension": ".py",
   "mimetype": "text/x-python",
   "name": "python",
   "nbconvert_exporter": "python",
   "pygments_lexer": "ipython3",
   "version": "3.11.5"
  }
 },
 "nbformat": 4,
 "nbformat_minor": 2
}
